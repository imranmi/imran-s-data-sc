{
  "cells": [
    {
      "cell_type": "raw",
      "metadata": {},
      "source": [
        "---\n",
        "title: \"Automate the design of a 3-stocks portfolio for a given target return\"\n",
        "author: \"Imran Ibrahim\"\n",
        "date: August 18, 2024\n",
        "date-modified: \"last-modified\"\n",
        "toc: true\n",
        "execute: \n",
        "  eval: true\n",
        "  echo: true\n",
        "  freeze: true\n",
        "  warning: false\n",
        "  message: false\n",
        "---"
      ],
      "id": "ac6969cd"
    },
    {
      "cell_type": "markdown",
      "metadata": {},
      "source": [
        "# Overview\n",
        "\n",
        "![](images/clipboard-2348194083.png){fig-align=\"left\"}\n",
        "\n",
        "![](images/clipboard-4712954.png)\n",
        "\n",
        "# Importing modules\n"
      ],
      "id": "efb24782"
    },
    {
      "cell_type": "code",
      "metadata": {},
      "source": [
        "import numpy as np\n",
        "import pandas as pd\n",
        "import matplotlib.pyplot as plt"
      ],
      "id": "d8fd0d4d",
      "execution_count": null,
      "outputs": []
    }
  ],
  "metadata": {
    "kernelspec": {
      "display_name": "Python 3",
      "language": "python",
      "name": "python3"
    }
  },
  "nbformat": 4,
  "nbformat_minor": 5
}